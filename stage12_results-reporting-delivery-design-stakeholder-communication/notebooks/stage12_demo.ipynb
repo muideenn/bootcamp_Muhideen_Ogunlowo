{
  "cells": [
    {
      "cell_type": "markdown",
      "metadata": {},
      "source": [
        "# Stage 12 Demo Notebook\n",
        "\n",
        "This notebook regenerates the plots used in the final stakeholder report. It uses matplotlib only (no seaborn) and a synthetic dataset for demonstration.\n"
      ]
    },
    {
      "cell_type": "code",
      "execution_count": null,
      "metadata": {},
      "outputs": [],
      "source": [
        "import numpy as np, pandas as pd\n",
        "import matplotlib.pyplot as plt\n",
        "from pathlib import Path\n",
        "\n",
        "images_dir = Path('../deliverables/images')\n",
        "images_dir.mkdir(parents=True, exist_ok=True)\n",
        "\n",
        "# Synthetic data\n",
        "np.random.seed(42)\n",
        "months = pd.date_range('2023-01-01', periods=24, freq='MS')\n",
        "revenue = np.cumsum(np.random.normal(100, 15, size=len(months))).clip(min=20)\n",
        "costs = (revenue * np.random.uniform(0.55, 0.75, size=len(months))).clip(min=10)\n",
        "profit = revenue - costs\n",
        "df = pd.DataFrame({'date': months, 'revenue': revenue, 'costs': costs, 'profit': profit})\n",
        "\n",
        "# 1) Time series plot\n",
        "plt.figure(figsize=(9,5))\n",
        "plt.plot(df['date'], df['revenue'], label='Revenue')\n",
        "plt.plot(df['date'], df['costs'], label='Costs')\n",
        "plt.plot(df['date'], df['profit'], label='Profit')\n",
        "plt.title('Monthly Revenue, Costs, and Profit')\n",
        "plt.xlabel('Date'); plt.ylabel('USD (thousands)'); plt.legend(); plt.tight_layout()\n",
        "plt.savefig(images_dir/'time_series_revenue_costs_profit.png', dpi=200); plt.close()\n",
        "\n",
        "# 2) Bar chart by segment\n",
        "segments = ['A','B','C','D']\n",
        "avg_profit = [80.0, 110.5, 95.2, 60.7]\n",
        "plt.figure(figsize=(7,5))\n",
        "plt.bar(segments, avg_profit)\n",
        "plt.title('Average Profit by Segment'); plt.xlabel('Segment'); plt.ylabel('Avg Profit (thousands)')\n",
        "plt.tight_layout(); plt.savefig(images_dir/'bar_avg_profit_by_segment.png', dpi=200); plt.close()\n",
        "\n",
        "# 3) Risk vs Expected Return scatter\n",
        "n_assets = 20\n",
        "risk = np.sort(np.random.uniform(0.05, 0.35, n_assets))\n",
        "ret = 0.02 + 0.7*risk + np.random.normal(0, 0.03, n_assets)\n",
        "plt.figure(figsize=(7,5))\n",
        "plt.scatter(risk, ret)\n",
        "import numpy as np\n",
        "m,b = np.polyfit(risk, ret, 1)\n",
        "x = np.linspace(risk.min(), risk.max(), 100)\n",
        "y = m*x + b\n",
        "plt.plot(x,y,label='Trend')\n",
        "plt.title('Risk vs Expected Return'); plt.xlabel('Risk (std dev)'); plt.ylabel('Expected Return')\n",
        "plt.legend(); plt.tight_layout(); plt.savefig(images_dir/'scatter_risk_vs_return.png', dpi=200); plt.close()\n",
        "\n",
        "print('Images regenerated in', images_dir.resolve())\n"
      ]
    }
  ],
  "metadata": {
    "kernelspec": {
      "display_name": "Python 3",
      "language": "python",
      "name": "python3"
    },
    "language_info": {
      "name": "python"
    }
  },
  "nbformat": 4,
  "nbformat_minor": 5
}