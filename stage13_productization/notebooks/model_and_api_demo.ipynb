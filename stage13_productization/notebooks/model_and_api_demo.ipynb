{
  "cells": [
    {
      "cell_type": "markdown",
      "metadata": {},
      "source": [
        "# Model & API Demo\n",
        "\n",
        "This notebook shows how to call the Flask API once it's running locally.\n",
        "Start the server in a separate terminal: `python app.py`.\n"
      ]
    },
    {
      "cell_type": "code",
      "execution_count": null,
      "metadata": {},
      "outputs": [],
      "source": [
        "import requests, json\n",
        "url = 'http://127.0.0.1:5000/predict'\n",
        "payload = {'features': [[1.0, 2.0], [0.5, -1.2]]}\n",
        "r = requests.post(url, json=payload)\n",
        "print(r.status_code, r.json())\n"
      ]
    }
  ],
  "metadata": {
    "kernelspec": {
      "display_name": "Python 3",
      "language": "python",
      "name": "python3"
    }
  },
  "nbformat": 4,
  "nbformat_minor": 5
}