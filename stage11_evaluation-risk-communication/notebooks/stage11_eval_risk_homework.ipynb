{
 "cells": [
  {
   "cell_type": "markdown",
   "id": "cc666302",
   "metadata": {},
   "source": [
    "# Stage 11 — Evaluation & Risk Communication "
   ]
  },
  {
   "cell_type": "code",
   "execution_count": null,
   "id": "fab8adc9",
   "metadata": {},
   "outputs": [],
   "source": [
    "\n",
    "import numpy as np, pandas as pd\n",
    "from pathlib import Path\n",
    "import matplotlib.pyplot as plt\n",
    "plt.rcParams[\"figure.figsize\"] = (8,4)\n",
    "plt.rcParams[\"axes.grid\"] = True\n",
    "import sys\n",
    "ROOT = Path.cwd().parents[0] if (Path.cwd().name == \"notebooks\") else Path.cwd()\n",
    "sys.path.append(str(ROOT / \"src\"))\n",
    "from evaluation import (\n",
    "    generate_synthetic_data, simple_model_fit_predict,\n",
    "    rmse, mae, bootstrap_metric_ci, scenario_impute,\n",
    "    scenario_drop_missing, subgroup_metric_by\n",
    ")\n",
    "SEED = 123\n",
    "np.random.seed(SEED)\n"
   ]
  },
  {
   "cell_type": "markdown",
   "id": "ebe7db47",
   "metadata": {},
   "source": [
    "## 1) Load data"
   ]
  },
  {
   "cell_type": "code",
   "execution_count": null,
   "id": "6b972157",
   "metadata": {},
   "outputs": [],
   "source": [
    "\n",
    "data_path = (ROOT / \"data\" / \"data_stage11_eval_risk.csv\")\n",
    "if data_path.exists():\n",
    "    df = pd.read_csv(data_path)\n",
    "else:\n",
    "    df = generate_synthetic_data(n=800, missing_rate=0.08, seed=42)\n",
    "    data_path.parent.mkdir(parents=True, exist_ok=True)\n",
    "    df.to_csv(data_path, index=False)\n",
    "display(df.head())\n",
    "print(\"Shape:\", df.shape, \"| Missing:\", df.isna().sum().to_dict())\n"
   ]
  },
  {
   "cell_type": "markdown",
   "id": "16922c72",
   "metadata": {},
   "source": [
    "## 2) Baseline fit & metric"
   ]
  },
  {
   "cell_type": "code",
   "execution_count": null,
   "id": "c7cc3d57",
   "metadata": {},
   "outputs": [],
   "source": [
    "\n",
    "df_mean = scenario_impute(df, strategy=\"mean\")\n",
    "X = df_mean[[\"x1\",\"x2\",\"x3\"]]\n",
    "y = df_mean[\"y\"]\n",
    "model, pred = simple_model_fit_predict(X, y)\n",
    "base_rmse = rmse(y, pred)\n",
    "base_mae = mae(y, pred)\n",
    "print(\"Baseline RMSE:\", round(base_rmse, 4), \"| MAE:\", round(base_mae, 4))\n",
    "\n",
    "resid = y - pred\n",
    "plt.scatter(pred, resid, s=12, alpha=0.7)\n",
    "plt.axhline(0, linestyle=\"--\")\n",
    "plt.title(\"Residuals vs Prediction (Baseline)\")\n",
    "plt.xlabel(\"Prediction\"); plt.ylabel(\"Residual\")\n",
    "plt.show()\n"
   ]
  },
  {
   "cell_type": "markdown",
   "id": "bf224542",
   "metadata": {},
   "source": [
    "## 3) Bootstrap CI for metric (RMSE)"
   ]
  },
  {
   "cell_type": "code",
   "execution_count": null,
   "id": "3c481c3a",
   "metadata": {},
   "outputs": [],
   "source": [
    "\n",
    "ci, point_est, dist = bootstrap_metric_ci(X, y, metric_fn=rmse, B=600, seed=SEED, return_dist=True)\n",
    "print(\"Bootstrap RMSE point estimate:\", round(point_est, 4))\n",
    "print(\"95% CI:\", (round(ci[0],4), round(ci[1],4)))\n",
    "\n",
    "plt.hist(dist, bins=30, alpha=0.8)\n",
    "plt.axvline(ci[0], linestyle=\"--\")\n",
    "plt.axvline(ci[1], linestyle=\"--\")\n",
    "plt.title(\"Bootstrap distribution of RMSE\")\n",
    "plt.xlabel(\"RMSE\"); plt.ylabel(\"Frequency\")\n",
    "plt.show()\n"
   ]
  },
  {
   "cell_type": "markdown",
   "id": "32370bdc",
   "metadata": {},
   "source": [
    "## 4) Scenario comparisons (≥ 2)"
   ]
  },
  {
   "cell_type": "code",
   "execution_count": null,
   "id": "9fd2ee57",
   "metadata": {},
   "outputs": [],
   "source": [
    "\n",
    "df_median = scenario_impute(df, strategy=\"median\")\n",
    "XA, yA = df_median[[\"x1\",\"x2\",\"x3\"]], df_median[\"y\"]\n",
    "_, pA = simple_model_fit_predict(XA, yA)\n",
    "rmse_A, mae_A = rmse(yA, pA), mae(yA, pA)\n",
    "\n",
    "df_drop = scenario_drop_missing(df)\n",
    "XB, yB = df_drop[[\"x1\",\"x2\",\"x3\"]], df_drop[\"y\"]\n",
    "_, pB = simple_model_fit_predict(XB, yB)\n",
    "rmse_B, mae_B = rmse(yB, pB), mae(yB, pB)\n",
    "\n",
    "comp = pd.DataFrame({\n",
    "    \"scenario\": [\"Baseline(mean)\", \"Median\", \"DropMissing\"],\n",
    "    \"RMSE\": [float(base_rmse), float(rmse_A), float(rmse_B)],\n",
    "    \"MAE\": [float(base_mae), float(mae_A), float(mae_B)],\n",
    "    \"n_obs\": [len(df_mean), len(df_median), len(df_drop)]\n",
    "})\n",
    "display(comp)\n",
    "\n",
    "xs = np.arange(len(comp))\n",
    "width = 0.35\n",
    "plt.bar(xs - width/2, comp[\"RMSE\"], width, label=\"RMSE\")\n",
    "plt.bar(xs + width/2, comp[\"MAE\"], width, label=\"MAE\")\n",
    "plt.xticks(xs, comp[\"scenario\"])\n",
    "plt.title(\"Scenario comparison (consistent axes)\")\n",
    "plt.ylabel(\"Error\")\n",
    "plt.legend()\n",
    "plt.show()\n"
   ]
  },
  {
   "cell_type": "markdown",
   "id": "c7e67379",
   "metadata": {},
   "source": [
    "## 5) Subgroup diagnostics (by `segment`)"
   ]
  },
  {
   "cell_type": "code",
   "execution_count": null,
   "id": "94e16d39",
   "metadata": {},
   "outputs": [],
   "source": [
    "\n",
    "dfb = df_mean.assign(pred=pred, resid=y - pred)\n",
    "sub = subgroup_metric_by(dfb, metric_fn=rmse, subgroup_col=\"segment\")\n",
    "display(sub)\n",
    "\n",
    "plt.bar(sub[\"segment\"].astype(str), sub[\"rmse\"])\n",
    "plt.title(\"RMSE by segment\")\n",
    "plt.xlabel(\"segment\"); plt.ylabel(\"RMSE\")\n",
    "plt.show()\n",
    "\n",
    "for s, g in dfb.groupby(\"segment\"):\n",
    "    plt.scatter(g[\"pred\"], g[\"resid\"], s=10, alpha=0.5, label=f\"seg {s}\")\n",
    "plt.axhline(0, linestyle=\"--\")\n",
    "plt.title(\"Residuals by segment\")\n",
    "plt.xlabel(\"Prediction\"); plt.ylabel(\"Residual\")\n",
    "plt.legend()\n",
    "plt.show()\n"
   ]
  },
  {
   "cell_type": "markdown",
   "id": "7c5b5f44",
   "metadata": {},
   "source": [
    "\n",
    "## 6) Stakeholder-facing summary (≤ 1 page)\n",
    "\n",
    "**Assumptions**: linear relation; baseline mean imputation; stable generating process.  \n",
    "**Uncertainty**: 95% CI on RMSE from bootstrap (B=600).  \n",
    "**Sensitivity**: median imputation close to baseline; dropping rows reduces n and can bias if missingness ≠ MCAR.  \n",
    "**Subgroups**: Segment D shows higher error (noisier).  \n",
    "\n",
    "**Holds if** missing-rate ≲10% and segment mix stable.  \n",
    "**Sensitive to** missing-rate >15% or surge in Segment D; consider robust/segment-aware models next.\n"
   ]
  }
 ],
 "metadata": {},
 "nbformat": 4,
 "nbformat_minor": 5
}
