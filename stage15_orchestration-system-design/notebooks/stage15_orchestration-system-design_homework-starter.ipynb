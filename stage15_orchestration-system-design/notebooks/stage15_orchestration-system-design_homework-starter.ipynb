{
 "cells": [
  {
   "cell_type": "markdown",
   "metadata": {},
   "source": [
    "# Homework Starter — Stage 15: Orchestration & System Design\n",
    
   ]
  },
  {
   "cell_type": "markdown",
   "metadata": {},
   "source": [
    "## 1) Project Task Decomposition\n",
    "List 4–8 tasks. Add more rows as needed."
   ]
  },
  {
   "cell_type": "code",
   "execution_count": null,
   "metadata": {},
   "outputs": [],
   "source": [
    "from pathlib import Path\n",
    "import pandas as pd\n",
    "\n",
    "tasks = pd.DataFrame({\n",
    "    'task': ['ingest', 'clean', 'train_or_score', 'report'],\n",
    "    'inputs': ['/data/raw.ext', 'prices_raw.json', 'prices_clean.json', 'model.json'],\n",
    "    'outputs': ['prices_raw.json', 'prices_clean.json', 'model.json', 'report.txt'],\n",
    "    'idempotent': [True, True, True, True]\n",
    "})\n",
    "tasks"
   ]
  },
  {
   "cell_type": "markdown",
   "metadata": {},
   "source": [
    "## 2) Dependencies (DAG)\n",
    "Describe dependencies and paste a small diagram if you have one."
   ]
  },
  {
   "cell_type": "code",
   "execution_count": null,
   "metadata": {},
   "outputs": [],
   "source": [
    "dag = {\n",
    "    'ingest': [],\n",
    "    'clean': ['ingest'],\n",
    "    'train_or_score': ['clean'],\n",
    "    'report': ['train_or_score']\n",
    "}\n",
    "dag"
   ]
  },
  {
   "cell_type": "markdown",
   "metadata": {},
   "source": [
    "## 3) Logging & Checkpoints Plan\n",
    "Specify what you will log and where you will checkpoint for each task."
   ]
  },
  {
   "cell_type": "code",
   "execution_count": null,
   "metadata": {},
   "outputs": [],
   "source": [
    "logging_plan = pd.DataFrame({\n",
    "    'task': ['ingest', 'clean', 'train_or_score', 'report'],\n",
    "    'log_messages': [\n",
    "        'start/end, rows, source URI',\n",
    "        'start/end, rows in/out',\n",
    "        'params, metrics',\n",
    "        'artifact path'\n",
    "    ],\n",
    "    'checkpoint_artifact': [\n",
    "        'prices_raw.json',\n",
    "        'prices_clean.json',\n",
    "        'model.json',\n",
    "        'report.txt'\n",
    "    ]\n",
    "})\n",
    "logging_plan"
   ]
  },
  {
   "cell_type": "markdown",
   "metadata": {},
   "source": [
    "## 4) Right-Sizing Automation\n",
    "Which parts will you automate now? Which stay manual? Why?"
   ]
  },
  {
   "cell_type": "markdown",
   "metadata": {},
   "source": [
    "- **Automate now:** `clean`, `train_or_score`, `report`\n",
    "- **Manual now:** `ingest` (depends on external sources)\n",
    "- **Principle:** Tasks stay idempotent and only rerun if inputs are newer."
   ]
  },
  {
   "cell_type": "markdown",
   "metadata": {},
   "source": [
    "## 5) Refactor One Task into a Function + CLI"
   ]
  },
  {
   "cell_type": "code",
   "execution_count": null,
   "metadata": {},
   "outputs": [],
   "source": [
    "import argparse, json, logging, sys\n",
    "from datetime import datetime\n",
    "from pathlib import Path\n",
    "\n",
    "def my_task(input_path: str, output_path: str) -> None:\n",
    "    logging.info(\"[my_task] start (input=%s, output=%s)\", input_path, output_path)\n",
    "    result = {\n",
    "        \"run_at\": datetime.utcnow().isoformat(),\n",
    "        \"note\": \"replace with real output\",\n",
    "        \"input_seen\": str(input_path)\n",
    "    }\n",
    "    Path(output_path).parent.mkdir(parents=True, exist_ok=True)\n",
    "    Path(output_path).write_text(json.dumps(result, indent=2))\n",
    "    logging.info(\"[my_task] wrote %s\", output_path)\n",
    "\n",
    "def main(argv=None):\n",
    "    parser = argparse.ArgumentParser()\n",
    "    parser.add_argument(\"--input\", required=True)\n",
    "    parser.add_argument(\"--output\", required=True)\n",
    "    args = parser.parse_args(argv)\n",
    "    logging.basicConfig(level=logging.INFO, handlers=[logging.StreamHandler(sys.stdout)])\n",
    "    my_task(args.input, args.output)\n",
    "\n",
    "if __name__ == \"__main__\":\n",
    "    main([\"--input\", \"data/in.ext\", \"--output\", \"data/out.json\"])"
   ]
  },
  {
   "cell_type": "markdown",
   "metadata": {},
   "source": [
    "### Retry Wrapper"
   ]
  },
  {
   "cell_type": "code",
   "execution_count": null,
   "metadata": {},
   "outputs": [],
   "source": [
    "import time, functools, logging\n",
    "\n",
    "def retry(n_tries=3, delay=0.2, backoff=1.0, exceptions=(Exception,)):\n",
    "    def deco(fn):\n",
    "        @functools.wraps(fn)\n",
    "        def wrapper(*args, **kwargs):\n",
    "            last_err = None\n",
    "            for attempt in range(1, n_tries + 1):\n",
    "                try:\n",
    "                    return fn(*args, **kwargs)\n",
    "                except exceptions as e:\n",
    "                    last_err = e\n",
    "                    if attempt == n_tries:\n",
    "                        raise\n",
    "                    time.sleep(delay + (attempt - 1) * backoff)\n",
    "        return wrapper\n",
    "    return deco"
   ]
  },
  {
   "cell_type": "markdown",
   "metadata": {},
   "source": [
    "## Minimal Orchestrator"
   ]
  },
  {
   "cell_type": "code",
   "execution_count": null,
   "metadata": {},
   "outputs": [],
   "source": [
    "from typing import Iterable, Callable, Dict\n",
    "\n",
    "def _as_paths(xs: Iterable[str]):\n",
    "    return [Path(x) for x in xs]\n",
    "\n",
    "def needs_run(inputs, outputs):\n",
    "    in_paths = _as_paths(inputs)\n",
    "    out_paths = _as_paths(outputs)\n",
    "    if not out_paths or any(not p.exists() for p in out_paths):\n",
    "        return True\n",
    "    newest_input = max((p.stat().st_mtime for p in in_paths if p.exists()), default=0.0)\n",
    "    oldest_output = min((p.stat().st_mtime for p in out_paths if p.exists()), default=0.0)\n",
    "    return newest_input > oldest_output\n",
    "\n",
    "Registry: Dict[str, dict] = {}\n",
    "def register_task(name, inputs, outputs):\n",
    "    def _decorator(fn):\n",
    "        Registry[name] = {\"fn\": fn, \"inputs\": inputs, \"outputs\": outputs}\n",
    "        return fn\n",
    "    return _decorator\n",
    "\n",
    "@register_task(\"ingest\", [\"/data/raw.ext\"], [\"prices_raw.json\"])\n",
    "@retry()\n",
    "def task_ingest():\n",
    "    Path(\"prices_raw.json\").write_text('{\"ok\": true}')\n",
    "\n",
    "@register_task(\"clean\", [\"prices_raw.json\"], [\"prices_clean.json\"])\n",
    "def task_clean():\n",
    "    Path(\"prices_clean.json\").write_text('{\"rows\": 1234}')\n",
    "\n",
    "@register_task(\"train_or_score\", [\"prices_clean.json\"], [\"model.json\"])\n",
    "def task_train():\n",
    "    Path(\"model.json\").write_text('{\"model\": \"dummy\"}')\n",
    "\n",
    "@register_task(\"report\", [\"model.json\"], [\"report.txt\"])\n",
    "def task_report():\n",
    "    Path(\"report.txt\").write_text(\"ok\")\n",
    "\n",
    "def topo_sort(dag):\n",
    "    indeg = {t:0 for t in dag}\n",
    "    for deps in dag.values():\n",
    "        for d in deps: indeg[d]+=1\n",
    "    q=[t for t,d in indeg.items() if d==0]\n",
    "    order=[]\n",
    "    while q:\n",
    "        t=q.pop()\n",
    "        order.append(t)\n",
    "        for k,deps in dag.items():\n",
    "            if t in deps:\n",
    "                indeg[k]-=1\n",
    "                if indeg[k]==0: q.append(k)\n",
    "    return order\n",
    "\n",
    "def run_pipeline(dag, force=False):\n",
    "    for t in topo_sort(dag):\n",
    "        meta = Registry[t]\n",
    "        if force or needs_run(meta[\"inputs\"], meta[\"outputs\"]):\n",
    "            meta[\"fn\"]()\n",
    "run_pipeline(dag)"
   ]
  }
 ],
 "metadata": {
  "kernelspec": {"display_name": "Python 3", "language": "python", "name": "python3"},
  "language_info": {"name": "python", "version": "3.10"}
 },
 "nbformat": 4,
 "nbformat_minor": 5
}

