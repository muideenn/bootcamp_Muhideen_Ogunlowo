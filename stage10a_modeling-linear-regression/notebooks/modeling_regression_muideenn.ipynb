{
 "cells": [
  {
   "cell_type": "markdown",
   "id": "94f7144f",
   "metadata": {},
   "source": [
    "\n",
    "# Stage 10a — Modeling: Linear Regression (Muideenn)\n",
    "\n",
    "This notebook fits a baseline Linear Regression model, runs residual diagnostics, and reports **R²** and **RMSE**. It uses your cleaned dataset if present at `data/processed/clean.csv` (expects numeric target column `y` and numeric features); otherwise it generates a synthetic dataset for prototyping.\n",
    "\n",
    "**Reproducibility:** A fixed random seed is used where applicable.\n"
   ]
  },
  {
   "cell_type": "code",
   "execution_count": null,
   "id": "6b3f501f",
   "metadata": {},
   "outputs": [],
   "source": [
    "\n",
    "import os\n",
    "import numpy as np\n",
    "import pandas as pd\n",
    "from pathlib import Path\n",
    "import matplotlib.pyplot as plt\n",
    "from scipy import stats\n",
    "\n",
    "from sklearn.model_selection import train_test_split\n",
    "from sklearn.linear_model import LinearRegression\n",
    "from sklearn.metrics import r2_score, mean_squared_error\n",
    "\n",
    "# Local utils\n",
    "from src.utils import project_path, load_csv, save_df\n",
    "\n",
    "# Plotting defaults\n",
    "plt.rcParams['figure.figsize'] = (7.5, 5)\n",
    "plt.rcParams['axes.grid'] = True\n",
    "\n",
    "RNG_SEED = 42\n",
    "np.random.seed(RNG_SEED)\n",
    "print('Setup complete.')\n"
   ]
  },
  {
   "cell_type": "markdown",
   "id": "1750ddd5",
   "metadata": {},
   "source": [
    "\n",
    "## 1) Load cleaned dataset (if present) or generate synthetic data\n",
    "Expected schema if using your data:\n",
    "- `y`: numeric target\n",
    "- Other numeric columns are treated as features.\n"
   ]
  },
  {
   "cell_type": "code",
   "execution_count": null,
   "id": "005ffa45",
   "metadata": {},
   "outputs": [],
   "source": [
    "\n",
    "clean_csv = project_path('data/processed/clean.csv')\n",
    "if clean_csv.exists():\n",
    "    df = load_csv('data/processed/clean.csv')\n",
    "    # Heuristic: require a 'y' column + at least 1 numeric feature column\n",
    "    num_cols = df.select_dtypes(include=np.number).columns.tolist()\n",
    "    assert 'y' in df.columns, \"Your clean.csv must have a numeric target column named 'y'.\"\n",
    "    X_cols = [c for c in num_cols if c != 'y']\n",
    "    assert len(X_cols) >= 1, \"Your clean.csv must include at least one numeric feature column besides 'y'.\"\n",
    "    print(f\"Loaded real dataset with shape {df.shape}. Using features: {X_cols}\")\n",
    "else:\n",
    "    # Synthetic data: y = 3*x1 - 2*x2 + noise; plus a nonlinear relation in x3 to stress diagnostics\n",
    "    n = 600\n",
    "    x1 = np.random.normal(0, 1, n)\n",
    "    x2 = np.random.normal(0, 1, n)\n",
    "    x3 = np.random.uniform(-2, 2, n)\n",
    "    eps = np.random.normal(0, 1.0, n)\n",
    "    y = 3*x1 - 2*x2 + 0.5*(x3**2) + eps  # include a quadratic effect in x3 to test linearity assumption\n",
    "    \n",
    "    df = pd.DataFrame({'x1': x1, 'x2': x2, 'x3': x3, 'y': y})\n",
    "    save_df(df, 'data/processed/clean.csv')  # save for reference\n",
    "    X_cols = ['x1','x2','x3']\n",
    "    print(f\"Generated synthetic dataset with shape {df.shape}. Using features: {X_cols}\")\n",
    "    \n",
    "df.head()\n"
   ]
  },
  {
   "cell_type": "markdown",
   "id": "be6f0501",
   "metadata": {},
   "source": [
    "\n",
    "## 2) Train/Test split\n",
    "We use an 80/20 split with a fixed random state for reproducibility.\n"
   ]
  },
  {
   "cell_type": "code",
   "execution_count": null,
   "id": "e8e271c8",
   "metadata": {},
   "outputs": [],
   "source": [
    "\n",
    "X = df[X_cols].copy()\n",
    "y = df['y'].copy()\n",
    "\n",
    "X_train, X_test, y_train, y_test = train_test_split(X, y, test_size=0.2, random_state=RNG_SEED)\n",
    "X_train.shape, X_test.shape\n"
   ]
  },
  {
   "cell_type": "markdown",
   "id": "0acd46fd",
   "metadata": {},
   "source": [
    "\n",
    "## 3) Fit `sklearn.linear_model.LinearRegression`\n"
   ]
  },
  {
   "cell_type": "code",
   "execution_count": null,
   "id": "6dc0c5b0",
   "metadata": {},
   "outputs": [],
   "source": [
    "\n",
    "linreg = LinearRegression()\n",
    "linreg.fit(X_train, y_train)\n",
    "\n",
    "y_pred_train = linreg.predict(X_train)\n",
    "y_pred_test  = linreg.predict(X_test)\n",
    "\n",
    "r2_train = r2_score(y_train, y_pred_train)\n",
    "r2_test  = r2_score(y_test, y_pred_test)\n",
    "rmse_train = mean_squared_error(y_train, y_pred_train, squared=False)\n",
    "rmse_test  = mean_squared_error(y_test, y_pred_test, squared=False)\n",
    "\n",
    "print('Coefficients:', dict(zip(X_cols, linreg.coef_)))\n",
    "print('Intercept   :', linreg.intercept_)\n",
    "print(f'R^2 train={r2_train:.3f}, test={r2_test:.3f}')\n",
    "print(f'RMSE train={rmse_train:.3f}, test={rmse_test:.3f}')\n"
   ]
  },
  {
   "cell_type": "markdown",
   "id": "467719d2",
   "metadata": {},
   "source": [
    "\n",
    "## 4) Predictions & residuals\n"
   ]
  },
  {
   "cell_type": "code",
   "execution_count": null,
   "id": "c60e4ae9",
   "metadata": {},
   "outputs": [],
   "source": [
    "\n",
    "resid_train = y_train - y_pred_train\n",
    "resid_test  = y_test  - y_pred_test\n",
    "\n",
    "res_df = pd.DataFrame({\n",
    "    'y_train': y_train, 'y_pred_train': y_pred_train, 'resid_train': resid_train\n",
    "})\n",
    "res_df.head()\n"
   ]
  },
  {
   "cell_type": "markdown",
   "id": "71b84bef",
   "metadata": {},
   "source": [
    "\n",
    "## 5) Diagnostics & Plots\n",
    "We check:\n",
    "- **Residuals vs Fitted** (linearity & homoscedasticity)\n",
    "- **Residual Histogram** (normality rough check)\n",
    "- **QQ Plot** (normality diagnostic)\n",
    "- **Residuals vs Key Predictor** (linearity wrt a feature)\n",
    "- **Residual Lag‑1** (autocorrelation hint for independence)\n"
   ]
  },
  {
   "cell_type": "code",
   "execution_count": null,
   "id": "a2713269",
   "metadata": {},
   "outputs": [],
   "source": [
    "\n",
    "# Residuals vs Fitted (Train)\n",
    "plt.figure()\n",
    "plt.scatter(y_pred_train, resid_train, alpha=0.6)\n",
    "plt.axhline(0, linestyle='--')\n",
    "plt.xlabel('Fitted (Train)')\n",
    "plt.ylabel('Residuals (Train)')\n",
    "plt.title('Residuals vs Fitted (Train)')\n",
    "plt.show()\n",
    "\n",
    "# Histogram of residuals (Train)\n",
    "plt.figure()\n",
    "plt.hist(resid_train, bins=30)\n",
    "plt.xlabel('Residual')\n",
    "plt.ylabel('Count')\n",
    "plt.title('Residual Histogram (Train)')\n",
    "plt.show()\n",
    "\n",
    "# QQ plot using scipy\n",
    "plt.figure()\n",
    "stats.probplot(resid_train, dist=\"norm\", plot=plt)\n",
    "plt.title('QQ Plot of Residuals (Train)')\n",
    "plt.show()\n",
    "\n",
    "# Residuals vs Key Predictor (use first column)\n",
    "key_col = X_cols[0]\n",
    "plt.figure()\n",
    "plt.scatter(X_train[key_col], resid_train, alpha=0.6)\n",
    "plt.axhline(0, linestyle='--')\n",
    "plt.xlabel(f'{key_col} (Train)')\n",
    "plt.ylabel('Residuals (Train)')\n",
    "plt.title(f'Residuals vs {key_col} (Train)')\n",
    "plt.show()\n",
    "\n",
    "# Residual lag-1 (Train)\n",
    "resid_sorted = pd.Series(resid_train).reset_index(drop=True)\n",
    "lag1 = resid_sorted.shift(1)\n",
    "plt.figure()\n",
    "plt.scatter(lag1[1:], resid_sorted[1:], alpha=0.6)\n",
    "plt.axhline(0, linestyle='--')\n",
    "plt.xlabel('Residual (t-1)')\n",
    "plt.ylabel('Residual (t)')\n",
    "plt.title('Residual Lag-1 (Train)')\n",
    "plt.show()\n"
   ]
  },
  {
   "cell_type": "markdown",
   "id": "5edf616c",
   "metadata": {},
   "source": [
    "\n",
    "## 6) Interpretation of Assumptions\n",
    "**Linearity:** Examine **Residuals vs Fitted** and **Residuals vs key predictor**. If we see curvature (e.g., U‑shape), that suggests a missing nonlinear term (like a squared feature).  \n",
    "**Independence:** If the **Residual lag‑1** scatter shows structure (e.g., diagonal pattern), residuals may be autocorrelated (time‑series effects).  \n",
    "**Homoscedasticity:** Look for constant variance across fitted values. A clear funnel shape indicates heteroscedasticity.  \n",
    "**Normality:** The **Histogram** and **QQ plot** help see heavy tails or skew. Mild deviations may be fine for unbiased estimates of coefficients; prediction intervals may be affected.\n"
   ]
  },
  {
   "cell_type": "markdown",
   "id": "883180f6",
   "metadata": {},
   "source": [
    "\n",
    "## 7) (Optional) Simple Transformation: add a squared term\n",
    "Adding a polynomial term (e.g., `x3^2`) keeps the model **linear in parameters**, so it's still linear regression.\n"
   ]
  },
  {
   "cell_type": "code",
   "execution_count": null,
   "id": "f924cbec",
   "metadata": {},
   "outputs": [],
   "source": [
    "\n",
    "from sklearn.preprocessing import PolynomialFeatures\n",
    "\n",
    "poly_cols = X_cols.copy()\n",
    "augment_col = None\n",
    "if 'x3' in X_cols:\n",
    "    augment_col = 'x3'\n",
    "elif len(X_cols) >= 1:\n",
    "    augment_col = X_cols[-1]\n",
    "\n",
    "if augment_col is not None:\n",
    "    X_train_aug = X_train.copy()\n",
    "    X_test_aug  = X_test.copy()\n",
    "    X_train_aug[f'{augment_col}^2'] = X_train_aug[augment_col]**2\n",
    "    X_test_aug[f'{augment_col}^2']  = X_test_aug[augment_col]**2\n",
    "\n",
    "    lin2 = LinearRegression().fit(X_train_aug, y_train)\n",
    "    y_pred_train2 = lin2.predict(X_train_aug)\n",
    "    y_pred_test2  = lin2.predict(X_test_aug)\n",
    "\n",
    "    r2_train2 = r2_score(y_train, y_pred_train2)\n",
    "    r2_test2  = r2_score(y_test, y_pred_test2)\n",
    "    rmse_train2 = mean_squared_error(y_train, y_pred_train2, squared=False)\n",
    "    rmse_test2  = mean_squared_error(y_test, y_pred_test2, squared=False)\n",
    "\n",
    "    print('Augmented coefficients:', dict(zip(X_train_aug.columns, lin2.coef_)))\n",
    "    print('Intercept             :', lin2.intercept_)\n",
    "    print(f'R^2 train={r2_train2:.3f}, test={r2_test2:.3f}')\n",
    "    print(f'RMSE train={rmse_train2:.3f}, test={rmse_test2:.3f}')\n",
    "else:\n",
    "    print(\"No numeric feature available to square.\")\n"
   ]
  },
  {
   "cell_type": "markdown",
   "id": "c210515f",
   "metadata": {},
   "source": [
    "\n",
    "## 8) Conclusion\n",
    "- Report **R²** and **RMSE** on the test set and whether they meet your use‑case needs (prediction vs. explanation).  \n",
    "- If diagnostics show curvature or heteroscedasticity, consider transformations, interaction terms, or a different model (e.g., regularized regression, tree‑based models).  \n",
    "- Document trust level and next steps.\n"
   ]
  }
 ],
 "metadata": {},
 "nbformat": 4,
 "nbformat_minor": 5
}
